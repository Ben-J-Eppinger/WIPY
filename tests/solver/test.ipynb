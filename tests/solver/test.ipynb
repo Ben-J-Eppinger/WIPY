{
 "cells": [
  {
   "cell_type": "code",
   "execution_count": 41,
   "metadata": {},
   "outputs": [],
   "source": [
    "import subprocess as sp\n",
    "from joblib import Parallel, delayed\n",
    "\n",
    "wipy_root_path = \"/home/beneppinger/WIPY/tests/solver\"\n",
    "scratch_solver_path = \"/\".join([wipy_root_path, \"scratch\", \"solver\"])\n",
    "solver_exec_path = \"/home/beneppinger/WIPY/tests/solver/specfem2d/bin\"\n",
    "solver_data_path = \"/home/beneppinger/WIPY/tests/solver/specfem2d/DATA\"\n",
    "\n",
    "n_events = 10"
   ]
  },
  {
   "cell_type": "code",
   "execution_count": 42,
   "metadata": {},
   "outputs": [],
   "source": [
    "# set up directories\n",
    "\n",
    "SP = sp.run(\n",
    "    [\"rm -r scratch\"],\n",
    "    cwd=wipy_root_path,\n",
    "    shell=True,\n",
    "    capture_output=True,\n",
    "    text=True\n",
    ")\n",
    "\n",
    "SP = sp.run(\n",
    "    ['mkdir scratch'],\n",
    "    cwd=wipy_root_path,\n",
    "    shell=True,\n",
    "    capture_output=True,\n",
    "    text=True\n",
    ")\n",
    "\n",
    "SP = sp.run(\n",
    "    ['mkdir scratch/solver'],\n",
    "    cwd=wipy_root_path,\n",
    "    shell=True,\n",
    "    capture_output=True,\n",
    "    text=True\n",
    ")\n",
    "\n"
   ]
  },
  {
   "cell_type": "code",
   "execution_count": 43,
   "metadata": {},
   "outputs": [],
   "source": [
    "\n",
    "for i in range(n_events):\n",
    "\n",
    "    dir_name = \"{:06d}\".format(i)\n",
    "\n",
    "    SP = sp.run(\n",
    "        [\"mkdir \" + dir_name],\n",
    "        cwd=scratch_solver_path,\n",
    "        shell=True,\n",
    "        capture_output=True,\n",
    "        text=True\n",
    "    )\n",
    "    \n",
    "    SP = sp.run(\n",
    "        [\"cp -r \" + solver_exec_path + \" \" + \"/\".join([scratch_solver_path, dir_name])], \n",
    "        cwd=scratch_solver_path,\n",
    "        shell=True,\n",
    "        capture_output=True,\n",
    "        text=True\n",
    "    )\n",
    "    \n",
    "    SP = sp.run(\n",
    "        [\"cp -r \" + solver_data_path + \" \" + \"/\".join([scratch_solver_path, dir_name])], \n",
    "        cwd=scratch_solver_path,\n",
    "        shell=True,\n",
    "        capture_output=True,\n",
    "        text=True\n",
    "    )\n",
    "    \n",
    "    SP = sp.run(\n",
    "        [\"mkdir OUTPUT_FILES\"],\n",
    "        cwd=\"/\".join([scratch_solver_path, dir_name]),\n",
    "        shell=True,\n",
    "        capture_output=True,\n",
    "        text=True\n",
    "    )"
   ]
  },
  {
   "cell_type": "code",
   "execution_count": 44,
   "metadata": {},
   "outputs": [],
   "source": [
    "path_names = [\"/\".join([scratch_solver_path,\"{:06d}\".format(x)]) for x in range(n_events)]\n",
    "\n",
    "def forward(path):\n",
    "\n",
    "    SP = sp.run(\n",
    "        [\"./bin/xmeshfem2D\"],\n",
    "        cwd=path,\n",
    "        shell=True,\n",
    "        capture_output=True,\n",
    "        text=True\n",
    "    )\n",
    "    \n",
    "    SP = sp.run(\n",
    "        [\"./bin/xspecfem2D\"],\n",
    "        cwd=path,\n",
    "        shell=True,\n",
    "        capture_output=True,\n",
    "        text=True\n",
    "    )\n",
    "\n",
    "\n",
    "PP = Parallel(n_jobs=-1)(delayed(forward)(path) for path in path_names)"
   ]
  },
  {
   "cell_type": "code",
   "execution_count": 13,
   "metadata": {},
   "outputs": [
    {
     "data": {
      "text/plain": [
       "'/home/beneppinger/WIPY/tests/solver/scratch/solver'"
      ]
     },
     "execution_count": 13,
     "metadata": {},
     "output_type": "execute_result"
    }
   ],
   "source": []
  }
 ],
 "metadata": {
  "kernelspec": {
   "display_name": "WIPY",
   "language": "python",
   "name": "python3"
  },
  "language_info": {
   "codemirror_mode": {
    "name": "ipython",
    "version": 3
   },
   "file_extension": ".py",
   "mimetype": "text/x-python",
   "name": "python",
   "nbconvert_exporter": "python",
   "pygments_lexer": "ipython3",
   "version": "3.12.2"
  },
  "orig_nbformat": 4
 },
 "nbformat": 4,
 "nbformat_minor": 2
}
