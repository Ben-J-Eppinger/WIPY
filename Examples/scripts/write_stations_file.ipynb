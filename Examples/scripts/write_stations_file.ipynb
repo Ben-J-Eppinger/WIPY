{
 "cells": [
  {
   "cell_type": "code",
   "execution_count": 5,
   "metadata": {},
   "outputs": [],
   "source": [
    "import numpy as np\n",
    "import subprocess as sp\n",
    "import scipy\n",
    "from matplotlib import pyplot as plt"
   ]
  },
  {
   "cell_type": "code",
   "execution_count": 6,
   "metadata": {},
   "outputs": [
    {
     "name": "stdout",
     "output_type": "stream",
     "text": [
      "S0001     AA        110.000        110.000     0.0     0.0\n"
     ]
    }
   ],
   "source": [
    "line = \"S\"+\"{:04d}\".format(1) + \\\n",
    "    5*\" \" + \"AA\" + 5*\" \" + \\\n",
    "        \"{:10.3f}\".format(110.0) + 5*\" \" + \\\n",
    "            \"{:10.3f}\".format(110.0) + \\\n",
    "                5*\" \" + \"0.0\" + 5*\" \" + \"0.0\"\n",
    "\n",
    "print(line)\n",
    "\n",
    "# with open(fid_path, \"w\") as fid:\n",
    "#     lines = fid.readlines()"
   ]
  },
  {
   "cell_type": "code",
   "execution_count": 23,
   "metadata": {},
   "outputs": [
    {
     "name": "stdout",
     "output_type": "stream",
     "text": [
      "2468.800092080972\n"
     ]
    },
    {
     "data": {
      "image/png": "[encoded data removed]",
      "text/plain": [
       "<Figure size 640x480 with 1 Axes>"
      ]
     },
     "metadata": {},
     "output_type": "display_data"
    }
   ],
   "source": [
    "# recievers are every 0.5 m along the line starting at 0.5 m\n",
    "\n",
    "topo = np.loadtxt(\"Field-Data/topo.txt\")\n",
    "\n",
    "# compute the path length of the topography\n",
    "\n",
    "L = np.zeros(len(topo))\n",
    "\n",
    "for i in range(1, len(L)):\n",
    "    L[i] = L[i-1] + np.sqrt((topo[i,0] - topo[i-1,0])**2 + (topo[i,1] - topo[i-1,1])**2)\n",
    "\n",
    "stretch = 200.0001/np.max(L)\n",
    "L *= stretch\n",
    "\n",
    "# interpolate the x-cordinate as a function of path length\n",
    "x_interp = scipy.interpolate.interp1d(L, topo[:,0])\n",
    "\n",
    "# interpolate the elevation as function of the x-cordinate\n",
    "topo_interp = scipy.interpolate.interp1d(topo[:,0], topo[:,1])\n",
    "\n",
    "rec_x = x_interp(np.arange(0.5, 200.5, 0.5))\n",
    "rec_z = topo_interp(rec_x)\n",
    "\n",
    "plt.plot(topo[:,0], topo[:,1], \"k\")\n",
    "plt.scatter(rec_x, rec_z, marker=\".\", color=\"r\")\n",
    "plt.xlim([90, 110])\n",
    "\n",
    "print(rec_z[0])"
   ]
  },
  {
   "cell_type": "code",
   "execution_count": 21,
   "metadata": {},
   "outputs": [],
   "source": [
    "lines = []\n",
    "\n",
    "for i in range(len(rec_x)):\n",
    "\n",
    "    line = \"S\"+\"{:04d}\".format(i+1) + \\\n",
    "            5*\" \" + \"AA\" + 5*\" \" + \\\n",
    "            \"{:10.5f}\".format(rec_x[i]) + 5*\" \" + \\\n",
    "            \"{:10.5f}\".format(rec_z[i]) + \\\n",
    "            5*\" \" + \"0.0\" + 5*\" \" + \"0.0\\n\"\n",
    "\n",
    "    lines.append(line)\n"
   ]
  },
  {
   "cell_type": "code",
   "execution_count": 22,
   "metadata": {},
   "outputs": [],
   "source": [
    "fid_path = \"specfem2d/DATA/STATIONS\"\n",
    "\n",
    "with open(fid_path, \"w\") as fid:\n",
    "    fid.writelines(lines)"
   ]
  }
 ],
 "metadata": {
  "kernelspec": {
   "display_name": "WIPY",
   "language": "python",
   "name": "python3"
  },
  "language_info": {
   "codemirror_mode": {
    "name": "ipython",
    "version": 3
   },
   "file_extension": ".py",
   "mimetype": "text/x-python",
   "name": "python",
   "nbconvert_exporter": "python",
   "pygments_lexer": "ipython3",
   "version": "3.12.2"
  },
  "orig_nbformat": 4
 },
 "nbformat": 4,
 "nbformat_minor": 2
}
