{
 "cells": [
  {
   "cell_type": "code",
   "execution_count": 40,
   "metadata": {},
   "outputs": [],
   "source": [
    "import numpy as np\n",
    "from matplotlib import pyplot as plt\n",
    "from scipy.interpolate import griddata\n",
    "import subprocess as sp\n",
    "\n",
    "model_path = \"/home/beneppinger/WIPY_tests/box_model_elastic/model_init\"\n",
    "# output_model_path = \"/home/beneppinger/WIPY_tests/box_model\"\n",
    "# output_model_path = \"/home/beneppinger/WIPY_tests/model_init_elastic\"\n",
    "output_model_path = \"/home/beneppinger/WIPY_tests/box_model_elastic/box_model\"\n",
    "\n",
    "sp.run(\n",
    "    [\"cp \" +  model_path + \"/* \" + output_model_path],\n",
    "    shell=True,\n",
    ")\n",
    "\n",
    "pars = [\"x\", \"z\", \"rho\", \"vp\", \"vs\"]"
   ]
  },
  {
   "cell_type": "code",
   "execution_count": 41,
   "metadata": {},
   "outputs": [],
   "source": [
    "def read_fortran_binary(file_path: str) -> np.array:\n",
    "    \"\"\"\n",
    "    Reads the fortran binary files specfems uses.\n",
    "    Note that the first and last elements of data encode the length of the array.\n",
    "    We remove these elements here because when dtype \"float32\" is used the values \n",
    "    are meaningless. When read using dtype \"int32\", dat[0] = dat[-1] = 4*(len(dat)-2).\n",
    "    inputs: \n",
    "        file_path: the absaolute path to the binary file\n",
    "    outputs: \n",
    "        dat: a NumPy array with the values of the binary file\n",
    "    \"\"\"\n",
    "\n",
    "    dat: np.array = np.fromfile(file_path, dtype='float32')\n",
    "    dat = dat[1:-1]\n",
    "    return dat \n",
    "\n",
    "\n",
    "def write_fortran_binary(file_path: str, dat: np.array) -> None:\n",
    "    \"\"\"\n",
    "    Writes fortran binary files that specfem can use.\n",
    "    Note how we compute the buffer values (buf) and write \n",
    "    them into the binary files at either end of the data array (dat). \n",
    "    inputs: \n",
    "        file_path: the absolute path of the file to be written\n",
    "        dat: the data array (usually Nx1) being written as a binary file\n",
    "    \"\"\"\n",
    "    \n",
    "    buf = np.array([4 * len(dat)], dtype=\"int32\") \n",
    "    dat = np.array(dat, dtype=\"float32\") \n",
    "\n",
    "    with open(file_path, \"wb\") as file: \n",
    "        buf.tofile(file) \n",
    "        dat.tofile(file) \n",
    "        buf.tofile(file) \n",
    "\n",
    "\n",
    "def load_model(model_path: str, pars: list[str]) -> dict[str: np.array]:\n",
    "    \"\"\"\n",
    "    loads a model from binary files.\n",
    "    inputs:\n",
    "        model_path: the absaolute path of the folder with the binary files\n",
    "        pars: the parameters from the model that will be loaded (e.g., \"x\", \"rho\", \"vp\", etc.)\n",
    "    outputs: \n",
    "        model: a dictionary representation of a model with keys that map parameters\n",
    "        to NumPy arrays\n",
    "    \"\"\"\n",
    "\n",
    "    model: dict = {}\n",
    "\n",
    "    for par in pars:\n",
    "        path: list[str] = \"/\".join([model_path, 'proc000000_' + par + '.bin']) \n",
    "        model[par] = read_fortran_binary(path)\n",
    "\n",
    "    return model\n",
    "\n",
    "\n",
    "def write_model(model_path: str, model: dict[str: np.array]) -> None: \n",
    "    \"\"\"\n",
    "    Writes a dictionary representation of a model to binary files\n",
    "    inputs: \n",
    "        model_path: the absolute path of the directory in which the binary files will be \n",
    "        written \n",
    "        model: the dictionary representation of a model that will be written as binary files\n",
    "    \"\"\"\n",
    "    \n",
    "    for key in model.keys():\n",
    "        path: list[str] = \"/\".join([model_path, 'proc000000_' + key + '.bin'])\n",
    "        write_fortran_binary(path, model[key])\n",
    "\n",
    "\n",
    "def plot_model_fast(model: dict[str: np.array], spac: float, par: str) -> None:\n",
    "    \"\"\"\n",
    "    Quick plotting function for dictionary representations of models\n",
    "    \"\"\"\n",
    "\n",
    "    x_vec = np.arange(\n",
    "        start=np.min(model['x']),\n",
    "        stop=np.max(model['x'])+spac,\n",
    "        step=spac\n",
    "        )\n",
    "\n",
    "    z_vec = np.arange(\n",
    "        start=np.min(model['z']),\n",
    "        stop=np.max(model['z'])+spac,\n",
    "        step=spac\n",
    "        )\n",
    "\n",
    "    grid_x, grid_z = np.meshgrid(x_vec, z_vec,)\n",
    "\n",
    "    f = griddata(\n",
    "        points=(model['x'], model['z']),\n",
    "        values=model[par],\n",
    "        xi=(grid_x, grid_z),\n",
    "        method='linear',\n",
    "    )\n",
    "\n",
    "    plt.pcolormesh(grid_x, grid_z, f, shading='auto', cmap=\"turbo\")\n",
    "    plt.colorbar()\n",
    "    plt.gca().set_aspect(1)\n",
    "\n",
    "\n"
   ]
  },
  {
   "cell_type": "code",
   "execution_count": 42,
   "metadata": {},
   "outputs": [
    {
     "data": {
      "image/png": "[encoded data removed]",
      "text/plain": [
       "<Figure size 640x480 with 2 Axes>"
      ]
     },
     "metadata": {},
     "output_type": "display_data"
    }
   ],
   "source": [
    "model = load_model(output_model_path, pars)\n",
    "plot_model_fast(model, 1, 'vs')"
   ]
  },
  {
   "cell_type": "code",
   "execution_count": 43,
   "metadata": {},
   "outputs": [],
   "source": [
    "# add a box anomoly to the initla model \n",
    "\n",
    "x_bol = ((model['x'] > 75) + 0) * ((model['x'] < 125) + 0)\n",
    "z_bol = ((model['z'] > 37.5) + 0) * ((model['z'] < 62.5) + 0)\n",
    "v_bol = x_bol * z_bol\n",
    "\n",
    "pert = 150\n",
    "model['vp'] = model['vp'] + pert*v_bol\n",
    "\n",
    "write_model(output_model_path, model)"
   ]
  },
  {
   "cell_type": "code",
   "execution_count": 44,
   "metadata": {},
   "outputs": [],
   "source": [
    "# add a high velocity layer to the bottom\n",
    "\n",
    "# z_bol = ((model['z'] < 10) + 0)\n",
    "# v_bol = z_bol\n",
    "\n",
    "# pert = 150\n",
    "# model['vp'] = model['vp'] + pert*v_bol\n",
    "\n",
    "# write_model(output_model_path, model)"
   ]
  },
  {
   "cell_type": "code",
   "execution_count": 45,
   "metadata": {},
   "outputs": [],
   "source": [
    "# make the vs field equal to vp/2\n",
    "\n",
    "model[\"vs\"] = model['vp']/2\n",
    "write_model(output_model_path, model)"
   ]
  },
  {
   "cell_type": "code",
   "execution_count": 48,
   "metadata": {},
   "outputs": [
    {
     "data": {
      "image/png": "[encoded data removed]",
      "text/plain": [
       "<Figure size 640x480 with 2 Axes>"
      ]
     },
     "metadata": {},
     "output_type": "display_data"
    }
   ],
   "source": [
    "model = load_model(output_model_path, pars)\n",
    "plot_model_fast(model, 1, 'rho')\n"
   ]
  },
  {
   "cell_type": "code",
   "execution_count": null,
   "metadata": {},
   "outputs": [],
   "source": []
  }
 ],
 "metadata": {
  "kernelspec": {
   "display_name": "WIPY",
   "language": "python",
   "name": "python3"
  },
  "language_info": {
   "codemirror_mode": {
    "name": "ipython",
    "version": 3
   },
   "file_extension": ".py",
   "mimetype": "text/x-python",
   "name": "python",
   "nbconvert_exporter": "python",
   "pygments_lexer": "ipython3",
   "version": "3.12.2"
  },
  "orig_nbformat": 4
 },
 "nbformat": 4,
 "nbformat_minor": 2
}
